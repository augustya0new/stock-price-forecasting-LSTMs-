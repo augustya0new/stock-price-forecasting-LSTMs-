import pandas as pd
import matplotlib.pyplot as plt

df = pd.read_csv("../data/stock_prices.csv")

plt.figure(figsize=(12,6))
plt.plot(df["Date"], df["Close"], label="Closing Price")
plt.xlabel("Date")
plt.ylabel("Price")
plt.title("Stock Closing Price Trend")
plt.legend()
plt.show()
